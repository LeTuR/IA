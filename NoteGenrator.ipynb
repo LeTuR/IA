{
 "cells": [
  {
   "cell_type": "code",
   "execution_count": 73,
   "metadata": {},
   "outputs": [
    {
     "name": "stdout",
     "output_type": "stream",
     "text": [
      "12\n"
     ]
    }
   ],
   "source": [
    "fileOctave = open(\"Octave.txt\", \"r\")\n",
    "lines  = fileOctave.readlines()\n",
    "fileOctave.close()\n",
    "\n",
    "Octave = []\n",
    "\n",
    "for line in lines:\n",
    "    value = line.strip().split()\n",
    "    value[0] = float(value[0])\n",
    "    value[1] = float(value[1])\n",
    "    Octave.append(value)\n",
    "print len(Octave)"
   ]
  },
  {
   "cell_type": "code",
   "execution_count": 100,
   "metadata": {},
   "outputs": [
    {
     "data": {
      "text/plain": [
       "(-1, 1)"
      ]
     },
     "execution_count": 100,
     "metadata": {},
     "output_type": "execute_result"
    },
    {
     "data": {
      "image/png": "[encoded data removed]",
      "text/plain": [
       "<Figure size 432x288 with 1 Axes>"
      ]
     },
     "metadata": {
      "needs_background": "light"
     },
     "output_type": "display_data"
    }
   ],
   "source": [
    "#Essai de Génération de l'Octave\n",
    "\n",
    "import numpy as np\n",
    "from scipy import signal\n",
    "import matplotlib.pyplot as plt\n",
    "\n",
    "f1 = 1.0\n",
    "f2 = 20.0\n",
    "f3 = 1000.0\n",
    "\n",
    "duration = 0.4*len(Octave)\n",
    "nbpoint = 5000*len(Octave)\n",
    "\n",
    "t = np.linspace(0, 0.4, 5000, endpoint=False)\n",
    "\n",
    "time = np.linspace(0, 0.4*len(Octave), 5000*len(Octave), endpoint=False)\n",
    "\n",
    "sig = []\n",
    "for f in Octave:\n",
    "    sig_tmp = np.sin(2*np.pi*f[1]*t)\n",
    "    sig = np.concatenate((sig, sig_tmp))\n",
    "\n",
    "\n",
    "    \n",
    "plt.plot(time, sig)\n",
    "plt.ylim(-1, 1)"
   ]
  },
  {
   "cell_type": "code",
   "execution_count": 102,
   "metadata": {},
   "outputs": [],
   "source": [
    "from scipy.io.wavfile import write\n",
    "song =  np.int16(sig/np.max(np.abs(sig)) * 32767)\n",
    "write('test.wav', int(nbpoint/duration), song)"
   ]
  },
  {
   "cell_type": "code",
   "execution_count": null,
   "metadata": {},
   "outputs": [],
   "source": []
  },
  {
   "cell_type": "code",
   "execution_count": null,
   "metadata": {},
   "outputs": [],
   "source": []
  }
 ],
 "metadata": {
  "kernelspec": {
   "display_name": "Python 2",
   "language": "python",
   "name": "python2"
  },
  "language_info": {
   "codemirror_mode": {
    "name": "ipython",
    "version": 2
   },
   "file_extension": ".py",
   "mimetype": "text/x-python",
   "name": "python",
   "nbconvert_exporter": "python",
   "pygments_lexer": "ipython2",
   "version": "2.7.15"
  }
 },
 "nbformat": 4,
 "nbformat_minor": 2
}
